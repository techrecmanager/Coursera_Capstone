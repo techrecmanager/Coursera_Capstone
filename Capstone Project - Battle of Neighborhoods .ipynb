{
 "cells": [
  {
   "cell_type": "markdown",
   "metadata": {},
   "source": [
    "# Introduction / Problem Statement"
   ]
  },
  {
   "cell_type": "markdown",
   "metadata": {},
   "source": [
    "<p> \n",
    "New York city is the most populous city in the United States. With an estimated 2019 population of 8.5 million distributed over about 302.6 square miles, New York City is also the most densely populated major city in the United States. It is a city that is second to none in terms of immigration, racial diversity, cultural diversity among other things  \n",
    "\n",
    "Of the many cuisines of New York City, turkish cuisine has gained popularity over the past few years. The history of Turkish restaurants in Manhattan goes back to the years when Turkish immigrants started working at Armenian restaurants.\n",
    "\n",
    "With its immense mediterranean population, it was only natural that Turkish cuisine would gain populrity, and New York City, which has the most restaurants in the world, has ONLY 23 Turkish restaurants on the island of Manhattan, thus making it one of the most lucrative cusines for a restaurateur to invest in. \n",
    "\n",
    "My project will explore the best locations for Turkish restaurants throughout the city of New York. New York is the most diverse city in the world (800 languages are spoken in New York) and has a long tradition of different ethnical restaurants. However, as with any business, opening a new restaurant requires serious considerations and is more complicated than it seems. In particular, the location of the restaurant is one of the most important factors that will determine its fate. \n",
    "\n",
    "So this is an attempt to answer business problems such as “Where in new york should a restaurateur/entrepreneur open a Turkish Restaurant?” and “Where can one find a turkish restaurant in New York City?” \n",
    "</p>\n"
   ]
  },
  {
   "cell_type": "markdown",
   "metadata": {},
   "source": [
    "# Data for my analysis"
   ]
  },
  {
   "cell_type": "markdown",
   "metadata": {},
   "source": [
    "<p> \n",
    "In order to answer the above questions, data on New York City neighborhoods, boroughs (to include boundaries, latitude, longitude) will be obtained from the data source: https://cocl.us/new_york_dataset. \n",
    "\n",
    "Data will be scrubbed and loaded into a dataframe.\n",
    "\n",
    "All data related to locations/venues of Turkish restaurants will be obtained via the FourSquare API. \n",
    "\n",
    "Ratings, tips, and likes by users will be counted and added to the dataframe and sorted based on rankings. \n",
    "\n",
    "Finally, we shall use Folium as out data visualization tool.\n",
    "</p>"
   ]
  },
  {
   "cell_type": "code",
   "execution_count": null,
   "metadata": {},
   "outputs": [],
   "source": []
  }
 ],
 "metadata": {
  "kernelspec": {
   "display_name": "Python 3",
   "language": "python",
   "name": "python3"
  },
  "language_info": {
   "codemirror_mode": {
    "name": "ipython",
    "version": 3
   },
   "file_extension": ".py",
   "mimetype": "text/x-python",
   "name": "python",
   "nbconvert_exporter": "python",
   "pygments_lexer": "ipython3",
   "version": "3.9.0"
  }
 },
 "nbformat": 4,
 "nbformat_minor": 4
}
